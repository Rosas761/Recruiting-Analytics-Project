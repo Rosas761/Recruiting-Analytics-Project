{
 "cells": [
  {
   "cell_type": "code",
   "execution_count": 2,
   "metadata": {},
   "outputs": [
    {
     "data": {
      "text/plain": [
       "Index(['AIdent', 'Active', 'Assigned', 'Branch', 'Activation Date', 'City',\n",
       "       'Zip', 'State', 'Birthday', 'Gender', 'Interviewed By Srident',\n",
       "       'How Heard Of', 'How Heard Of Detail', 'Last Avl', 'Pay Ready',\n",
       "       'Date Created', 'Interview Date', 'Wotc Eligibility Id'],\n",
       "      dtype='object')"
      ]
     },
     "execution_count": 2,
     "metadata": {},
     "output_type": "execute_result"
    }
   ],
   "source": [
    "# Dependencies and Setup\n",
    "import matplotlib.pyplot as plt\n",
    "import pandas as pd\n",
    "import numpy as np\n",
    "\n",
    "Data_csv_path = \"../Data/Employee Table.csv\"\n",
    "\n",
    "first_df =  pd.read_csv(Data_csv_path)\n",
    "first_df.columns"
   ]
  },
  {
   "cell_type": "code",
   "execution_count": 3,
   "metadata": {},
   "outputs": [
    {
     "data": {
      "text/html": [
       "<div>\n",
       "<style scoped>\n",
       "    .dataframe tbody tr th:only-of-type {\n",
       "        vertical-align: middle;\n",
       "    }\n",
       "\n",
       "    .dataframe tbody tr th {\n",
       "        vertical-align: top;\n",
       "    }\n",
       "\n",
       "    .dataframe thead th {\n",
       "        text-align: right;\n",
       "    }\n",
       "</style>\n",
       "<table border=\"1\" class=\"dataframe\">\n",
       "  <thead>\n",
       "    <tr style=\"text-align: right;\">\n",
       "      <th></th>\n",
       "      <th>AIdent</th>\n",
       "      <th>Activation Date</th>\n",
       "      <th>Branch</th>\n",
       "      <th>City</th>\n",
       "      <th>How Heard Of</th>\n",
       "    </tr>\n",
       "  </thead>\n",
       "  <tbody>\n",
       "    <tr>\n",
       "      <th>0</th>\n",
       "      <td>184128</td>\n",
       "      <td>8/1/2017</td>\n",
       "      <td>08-Columbus West</td>\n",
       "      <td>Columbus</td>\n",
       "      <td>Friend/Relative Referral</td>\n",
       "    </tr>\n",
       "    <tr>\n",
       "      <th>1</th>\n",
       "      <td>184129</td>\n",
       "      <td>8/1/2017</td>\n",
       "      <td>05-Elyria</td>\n",
       "      <td>lorain</td>\n",
       "      <td>NaN</td>\n",
       "    </tr>\n",
       "    <tr>\n",
       "      <th>2</th>\n",
       "      <td>184130</td>\n",
       "      <td>8/1/2017</td>\n",
       "      <td>03-Independence</td>\n",
       "      <td>bedford hts</td>\n",
       "      <td>Craigslist</td>\n",
       "    </tr>\n",
       "    <tr>\n",
       "      <th>3</th>\n",
       "      <td>184131</td>\n",
       "      <td>8/1/2017</td>\n",
       "      <td>12-Chicago</td>\n",
       "      <td>Berwyn</td>\n",
       "      <td>Craigslist</td>\n",
       "    </tr>\n",
       "    <tr>\n",
       "      <th>4</th>\n",
       "      <td>184132</td>\n",
       "      <td>8/1/2017</td>\n",
       "      <td>08-Columbus West</td>\n",
       "      <td>Columbus</td>\n",
       "      <td>Other web site</td>\n",
       "    </tr>\n",
       "    <tr>\n",
       "      <th>5</th>\n",
       "      <td>184133</td>\n",
       "      <td>8/1/2017</td>\n",
       "      <td>12-Chicago</td>\n",
       "      <td>Chicago</td>\n",
       "      <td>Friend/Relative Referral</td>\n",
       "    </tr>\n",
       "    <tr>\n",
       "      <th>6</th>\n",
       "      <td>184134</td>\n",
       "      <td>8/1/2017</td>\n",
       "      <td>07-Columbus East</td>\n",
       "      <td>Columbus</td>\n",
       "      <td>Friend/Relative Referral</td>\n",
       "    </tr>\n",
       "    <tr>\n",
       "      <th>7</th>\n",
       "      <td>184135</td>\n",
       "      <td>8/1/2017</td>\n",
       "      <td>03-Independence</td>\n",
       "      <td>cleveland</td>\n",
       "      <td>Friend/Relative Referral</td>\n",
       "    </tr>\n",
       "    <tr>\n",
       "      <th>8</th>\n",
       "      <td>184136</td>\n",
       "      <td>8/1/2017</td>\n",
       "      <td>05-Elyria</td>\n",
       "      <td>Avon Lake</td>\n",
       "      <td>Craigslist</td>\n",
       "    </tr>\n",
       "    <tr>\n",
       "      <th>9</th>\n",
       "      <td>184137</td>\n",
       "      <td>8/1/2017</td>\n",
       "      <td>08-Columbus West</td>\n",
       "      <td>columbus</td>\n",
       "      <td>Friend/Relative Referral</td>\n",
       "    </tr>\n",
       "  </tbody>\n",
       "</table>\n",
       "</div>"
      ],
      "text/plain": [
       "   AIdent Activation Date            Branch         City  \\\n",
       "0  184128        8/1/2017  08-Columbus West     Columbus   \n",
       "1  184129        8/1/2017         05-Elyria       lorain   \n",
       "2  184130        8/1/2017   03-Independence  bedford hts   \n",
       "3  184131        8/1/2017        12-Chicago       Berwyn   \n",
       "4  184132        8/1/2017  08-Columbus West     Columbus   \n",
       "5  184133        8/1/2017        12-Chicago      Chicago   \n",
       "6  184134        8/1/2017  07-Columbus East    Columbus    \n",
       "7  184135        8/1/2017   03-Independence    cleveland   \n",
       "8  184136        8/1/2017         05-Elyria    Avon Lake   \n",
       "9  184137        8/1/2017  08-Columbus West     columbus   \n",
       "\n",
       "               How Heard Of  \n",
       "0  Friend/Relative Referral  \n",
       "1                       NaN  \n",
       "2                Craigslist  \n",
       "3                Craigslist  \n",
       "4            Other web site  \n",
       "5  Friend/Relative Referral  \n",
       "6  Friend/Relative Referral  \n",
       "7  Friend/Relative Referral  \n",
       "8                Craigslist  \n",
       "9  Friend/Relative Referral  "
      ]
     },
     "execution_count": 3,
     "metadata": {},
     "output_type": "execute_result"
    }
   ],
   "source": [
    "ET = pd.DataFrame(first_df[[\"AIdent\",'Activation Date', \"Branch\", 'City', 'How Heard Of']])\n",
    "ET.head(10)\n"
   ]
  },
  {
   "cell_type": "code",
   "execution_count": 4,
   "metadata": {},
   "outputs": [],
   "source": [
    "ET.to_csv(\"../Data/ET_cleaned.csv\", index=True)\n"
   ]
  },
  {
   "cell_type": "code",
   "execution_count": 59,
   "metadata": {},
   "outputs": [
    {
     "data": {
      "text/plain": [
       "Index(['Item ID', 'Skill Code Id', 'Performance Code', 'Order ID', 'AIdent',\n",
       "       'Start Date', 'End Date', 'Pay Rate', 'Bill Rate', 'Salary',\n",
       "       'Salary Bill', 'Perf Note', 'User Defined Order Note'],\n",
       "      dtype='object')"
      ]
     },
     "execution_count": 59,
     "metadata": {},
     "output_type": "execute_result"
    }
   ],
   "source": [
    "Data_csv_path2 = \"../Data/Assignments.csv\"\n",
    "\n",
    "A_df =  pd.read_csv(Data_csv_path2)\n",
    "A_df.columns\n"
   ]
  },
  {
   "cell_type": "code",
   "execution_count": 60,
   "metadata": {},
   "outputs": [
    {
     "data": {
      "text/html": [
       "<div>\n",
       "<style scoped>\n",
       "    .dataframe tbody tr th:only-of-type {\n",
       "        vertical-align: middle;\n",
       "    }\n",
       "\n",
       "    .dataframe tbody tr th {\n",
       "        vertical-align: top;\n",
       "    }\n",
       "\n",
       "    .dataframe thead th {\n",
       "        text-align: right;\n",
       "    }\n",
       "</style>\n",
       "<table border=\"1\" class=\"dataframe\">\n",
       "  <thead>\n",
       "    <tr style=\"text-align: right;\">\n",
       "      <th></th>\n",
       "      <th>Performance Code</th>\n",
       "      <th>AIdent</th>\n",
       "      <th>Start Date</th>\n",
       "      <th>End Date</th>\n",
       "      <th>Pay Rate</th>\n",
       "      <th>Bill Rate</th>\n",
       "    </tr>\n",
       "  </thead>\n",
       "  <tbody>\n",
       "    <tr>\n",
       "      <th>0</th>\n",
       "      <td>Open</td>\n",
       "      <td>225261.0</td>\n",
       "      <td>2/4/2018</td>\n",
       "      <td>NaN</td>\n",
       "      <td>8.00</td>\n",
       "      <td>13.88</td>\n",
       "    </tr>\n",
       "    <tr>\n",
       "      <th>1</th>\n",
       "      <td>Assignment Terminated - No Reason Given</td>\n",
       "      <td>184514.0</td>\n",
       "      <td>8/9/2017</td>\n",
       "      <td>8/9/2017</td>\n",
       "      <td>8.15</td>\n",
       "      <td>11.82</td>\n",
       "    </tr>\n",
       "    <tr>\n",
       "      <th>2</th>\n",
       "      <td>Complete</td>\n",
       "      <td>186334.0</td>\n",
       "      <td>9/20/2017</td>\n",
       "      <td>9/22/2017</td>\n",
       "      <td>8.15</td>\n",
       "      <td>11.17</td>\n",
       "    </tr>\n",
       "    <tr>\n",
       "      <th>3</th>\n",
       "      <td>Complete</td>\n",
       "      <td>186555.0</td>\n",
       "      <td>9/20/2017</td>\n",
       "      <td>9/25/2017</td>\n",
       "      <td>8.15</td>\n",
       "      <td>11.17</td>\n",
       "    </tr>\n",
       "    <tr>\n",
       "      <th>4</th>\n",
       "      <td>Completed Early</td>\n",
       "      <td>210145.0</td>\n",
       "      <td>12/4/2017</td>\n",
       "      <td>12/20/2017</td>\n",
       "      <td>8.15</td>\n",
       "      <td>11.17</td>\n",
       "    </tr>\n",
       "    <tr>\n",
       "      <th>5</th>\n",
       "      <td>Assignment Terminated - Attendance</td>\n",
       "      <td>221151.0</td>\n",
       "      <td>12/6/2017</td>\n",
       "      <td>12/19/2017</td>\n",
       "      <td>8.15</td>\n",
       "      <td>11.17</td>\n",
       "    </tr>\n",
       "    <tr>\n",
       "      <th>6</th>\n",
       "      <td>Assignment Terminated - Attendance</td>\n",
       "      <td>184399.0</td>\n",
       "      <td>8/15/2017</td>\n",
       "      <td>9/28/2017</td>\n",
       "      <td>8.15</td>\n",
       "      <td>11.08</td>\n",
       "    </tr>\n",
       "    <tr>\n",
       "      <th>7</th>\n",
       "      <td>A Quit - Stopped Showing / No Notice</td>\n",
       "      <td>184777.0</td>\n",
       "      <td>8/15/2017</td>\n",
       "      <td>8/18/2017</td>\n",
       "      <td>8.15</td>\n",
       "      <td>11.08</td>\n",
       "    </tr>\n",
       "    <tr>\n",
       "      <th>8</th>\n",
       "      <td>A Quit - Stopped Showing / No Notice</td>\n",
       "      <td>186286.0</td>\n",
       "      <td>10/2/2017</td>\n",
       "      <td>10/20/2017</td>\n",
       "      <td>8.15</td>\n",
       "      <td>11.08</td>\n",
       "    </tr>\n",
       "    <tr>\n",
       "      <th>9</th>\n",
       "      <td>A Quit - Stopped Showing / No Notice</td>\n",
       "      <td>186342.0</td>\n",
       "      <td>9/15/2017</td>\n",
       "      <td>9/15/2017</td>\n",
       "      <td>8.15</td>\n",
       "      <td>11.08</td>\n",
       "    </tr>\n",
       "  </tbody>\n",
       "</table>\n",
       "</div>"
      ],
      "text/plain": [
       "                          Performance Code    AIdent Start Date    End Date  \\\n",
       "0                                     Open  225261.0   2/4/2018         NaN   \n",
       "1  Assignment Terminated - No Reason Given  184514.0   8/9/2017    8/9/2017   \n",
       "2                                 Complete  186334.0  9/20/2017   9/22/2017   \n",
       "3                                 Complete  186555.0  9/20/2017   9/25/2017   \n",
       "4                          Completed Early  210145.0  12/4/2017  12/20/2017   \n",
       "5       Assignment Terminated - Attendance  221151.0  12/6/2017  12/19/2017   \n",
       "6       Assignment Terminated - Attendance  184399.0  8/15/2017   9/28/2017   \n",
       "7     A Quit - Stopped Showing / No Notice  184777.0  8/15/2017   8/18/2017   \n",
       "8     A Quit - Stopped Showing / No Notice  186286.0  10/2/2017  10/20/2017   \n",
       "9     A Quit - Stopped Showing / No Notice  186342.0  9/15/2017   9/15/2017   \n",
       "\n",
       "   Pay Rate  Bill Rate  \n",
       "0      8.00      13.88  \n",
       "1      8.15      11.82  \n",
       "2      8.15      11.17  \n",
       "3      8.15      11.17  \n",
       "4      8.15      11.17  \n",
       "5      8.15      11.17  \n",
       "6      8.15      11.08  \n",
       "7      8.15      11.08  \n",
       "8      8.15      11.08  \n",
       "9      8.15      11.08  "
      ]
     },
     "execution_count": 60,
     "metadata": {},
     "output_type": "execute_result"
    }
   ],
   "source": [
    "AS = pd.DataFrame(A_df[['Performance Code', 'AIdent', 'Start Date', 'End Date', 'Pay Rate', 'Bill Rate']])\n",
    "AS.head(10)"
   ]
  },
  {
   "cell_type": "code",
   "execution_count": 64,
   "metadata": {},
   "outputs": [
    {
     "data": {
      "text/plain": [
       "AIdent       184132.00\n",
       "Pay Rate          8.00\n",
       "Bill Rate        10.56\n",
       "Margin            1.95\n",
       "dtype: float64"
      ]
     },
     "execution_count": 64,
     "metadata": {},
     "output_type": "execute_result"
    }
   ],
   "source": [
    "Margin = []\n",
    "Margin = AS[\"Bill Rate\"] - AS[\"Pay Rate\"]\n",
    "Margin\n",
    "AS[\"Margin\"] = Margin\n",
    "\n",
    "AS.min()"
   ]
  },
  {
   "cell_type": "code",
   "execution_count": 74,
   "metadata": {},
   "outputs": [],
   "source": [
    "AS.to_csv(\"../Data/AS_cleaned.csv\", index=True)"
   ]
  },
  {
   "cell_type": "code",
   "execution_count": 66,
   "metadata": {
    "scrolled": true
   },
   "outputs": [
    {
     "data": {
      "text/plain": [
       "Index(['Item_ID', 'aident', 'Hours_Worked', 'Start_Date', 'End_Date'], dtype='object')"
      ]
     },
     "execution_count": 66,
     "metadata": {},
     "output_type": "execute_result"
    }
   ],
   "source": [
    "Data_csv_path3 = \"../Data/Hours Worked.csv\"\n",
    "\n",
    "HW_df =  pd.read_csv(Data_csv_path3)\n",
    "HW_df.columns"
   ]
  },
  {
   "cell_type": "code",
   "execution_count": 75,
   "metadata": {},
   "outputs": [
    {
     "data": {
      "text/plain": [
       "aident          225341.0\n",
       "Hours_Worked      1206.0\n",
       "dtype: float64"
      ]
     },
     "execution_count": 75,
     "metadata": {},
     "output_type": "execute_result"
    }
   ],
   "source": [
    "HW = pd.DataFrame(HW_df[['aident', 'Hours_Worked']])\n",
    "\n",
    "HW.to_csv(\"../Data/HW_cleaned.csv\", index=True)\n",
    "HW.max()"
   ]
  },
  {
   "cell_type": "code",
   "execution_count": null,
   "metadata": {},
   "outputs": [],
   "source": []
  },
  {
   "cell_type": "code",
   "execution_count": null,
   "metadata": {},
   "outputs": [],
   "source": []
  },
  {
   "cell_type": "code",
   "execution_count": null,
   "metadata": {},
   "outputs": [],
   "source": []
  }
 ],
 "metadata": {
  "kernelspec": {
   "display_name": "Python 3",
   "language": "python",
   "name": "python3"
  },
  "language_info": {
   "codemirror_mode": {
    "name": "ipython",
    "version": 3
   },
   "file_extension": ".py",
   "mimetype": "text/x-python",
   "name": "python",
   "nbconvert_exporter": "python",
   "pygments_lexer": "ipython3",
   "version": "3.7.3"
  }
 },
 "nbformat": 4,
 "nbformat_minor": 2
}
