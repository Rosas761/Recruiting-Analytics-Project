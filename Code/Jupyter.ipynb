{
 "cells": [
  {
   "cell_type": "code",
   "execution_count": 1,
   "metadata": {},
   "outputs": [],
   "source": [
    "import os\n",
    "\n",
    "import pandas as pd\n",
    "import numpy as np\n",
    "import psycopg2\n",
    "\n",
    "from flask import Flask, jsonify, render_template"
   ]
  },
  {
   "cell_type": "code",
   "execution_count": 2,
   "metadata": {},
   "outputs": [],
   "source": [
    "conn = psycopg2.connect(dbname=\"SB_Project\", user= \"postgres\", password=\"postgres\", host=\"localhost\", port = \"5432\")\n",
    "cursor = conn.cursor()\n",
    "app = Flask(__name__)\n",
    "sql = \"select sum(profit), how_heard from snider group by how_heard order by sum(profit) desc \""
   ]
  },
  {
   "cell_type": "code",
   "execution_count": 3,
   "metadata": {},
   "outputs": [
    {
     "name": "stdout",
     "output_type": "stream",
     "text": [
      "('$818,749.99', 'Friend/Relative Referral')\n",
      "('$650,281.63', None)\n",
      "('$326,363.01', 'Indeed')\n",
      "('$248,906.39', 'Walk-In')\n",
      "('$227,150.43', 'Craigslist')\n",
      "('$127,433.86', 'Other web site')\n",
      "('$60,122.42', 'Zip Recruiter')\n",
      "('$27,092.05', 'Newspaper Ad')\n",
      "('$11,321.76', 'Flyer')\n",
      "('$11,220.06', 'Advanced Careers')\n",
      "('$5,723.70', 'Monster.com')\n",
      "('$933.14', 'Broadbean')\n"
     ]
    }
   ],
   "source": [
    "cursor.execute(sql)\n",
    "\n",
    "my_data = []\n",
    "for row in cursor.fetchall():\n",
    "    print(row)\n",
    "    my_data.append(row)\n",
    "    "
   ]
  },
  {
   "cell_type": "code",
   "execution_count": 18,
   "metadata": {},
   "outputs": [
    {
     "name": "stdout",
     "output_type": "stream",
     "text": [
      "              0                         1\n",
      "0   $818,749.99  Friend/Relative Referral\n",
      "1   $650,281.63                      None\n",
      "2   $326,363.01                    Indeed\n",
      "3   $248,906.39                   Walk-In\n",
      "4   $227,150.43                Craigslist\n",
      "5   $127,433.86            Other web site\n",
      "6    $60,122.42             Zip Recruiter\n",
      "7    $27,092.05              Newspaper Ad\n",
      "8    $11,321.76                     Flyer\n",
      "9    $11,220.06          Advanced Careers\n",
      "10    $5,723.70               Monster.com\n",
      "11      $933.14                 Broadbean\n"
     ]
    }
   ],
   "source": [
    "df = pd.DataFrame(my_data)\n"
   ]
  },
  {
   "cell_type": "code",
   "execution_count": 33,
   "metadata": {},
   "outputs": [
    {
     "data": {
      "text/html": [
       "<div>\n",
       "<style scoped>\n",
       "    .dataframe tbody tr th:only-of-type {\n",
       "        vertical-align: middle;\n",
       "    }\n",
       "\n",
       "    .dataframe tbody tr th {\n",
       "        vertical-align: top;\n",
       "    }\n",
       "\n",
       "    .dataframe thead th {\n",
       "        text-align: right;\n",
       "    }\n",
       "</style>\n",
       "<table border=\"1\" class=\"dataframe\">\n",
       "  <thead>\n",
       "    <tr style=\"text-align: right;\">\n",
       "      <th></th>\n",
       "      <th>Revanue</th>\n",
       "      <th>How_Heard</th>\n",
       "    </tr>\n",
       "  </thead>\n",
       "  <tbody>\n",
       "    <tr>\n",
       "      <th>0</th>\n",
       "      <td>$818,749.99</td>\n",
       "      <td>Friend/Relative Referral</td>\n",
       "    </tr>\n",
       "    <tr>\n",
       "      <th>1</th>\n",
       "      <td>$650,281.63</td>\n",
       "      <td>None</td>\n",
       "    </tr>\n",
       "    <tr>\n",
       "      <th>2</th>\n",
       "      <td>$326,363.01</td>\n",
       "      <td>Indeed</td>\n",
       "    </tr>\n",
       "    <tr>\n",
       "      <th>3</th>\n",
       "      <td>$248,906.39</td>\n",
       "      <td>Walk-In</td>\n",
       "    </tr>\n",
       "    <tr>\n",
       "      <th>4</th>\n",
       "      <td>$227,150.43</td>\n",
       "      <td>Craigslist</td>\n",
       "    </tr>\n",
       "    <tr>\n",
       "      <th>5</th>\n",
       "      <td>$127,433.86</td>\n",
       "      <td>Other web site</td>\n",
       "    </tr>\n",
       "    <tr>\n",
       "      <th>6</th>\n",
       "      <td>$60,122.42</td>\n",
       "      <td>Zip Recruiter</td>\n",
       "    </tr>\n",
       "    <tr>\n",
       "      <th>7</th>\n",
       "      <td>$27,092.05</td>\n",
       "      <td>Newspaper Ad</td>\n",
       "    </tr>\n",
       "    <tr>\n",
       "      <th>8</th>\n",
       "      <td>$11,321.76</td>\n",
       "      <td>Flyer</td>\n",
       "    </tr>\n",
       "    <tr>\n",
       "      <th>9</th>\n",
       "      <td>$11,220.06</td>\n",
       "      <td>Advanced Careers</td>\n",
       "    </tr>\n",
       "    <tr>\n",
       "      <th>10</th>\n",
       "      <td>$5,723.70</td>\n",
       "      <td>Monster.com</td>\n",
       "    </tr>\n",
       "    <tr>\n",
       "      <th>11</th>\n",
       "      <td>$933.14</td>\n",
       "      <td>Broadbean</td>\n",
       "    </tr>\n",
       "  </tbody>\n",
       "</table>\n",
       "</div>"
      ],
      "text/plain": [
       "        Revanue                 How_Heard\n",
       "0   $818,749.99  Friend/Relative Referral\n",
       "1   $650,281.63                      None\n",
       "2   $326,363.01                    Indeed\n",
       "3   $248,906.39                   Walk-In\n",
       "4   $227,150.43                Craigslist\n",
       "5   $127,433.86            Other web site\n",
       "6    $60,122.42             Zip Recruiter\n",
       "7    $27,092.05              Newspaper Ad\n",
       "8    $11,321.76                     Flyer\n",
       "9    $11,220.06          Advanced Careers\n",
       "10    $5,723.70               Monster.com\n",
       "11      $933.14                 Broadbean"
      ]
     },
     "execution_count": 33,
     "metadata": {},
     "output_type": "execute_result"
    }
   ],
   "source": [
    "table1 = df.rename(columns={0: \"Revanue\", 1: \"How_Heard\"})\n",
    "table1"
   ]
  },
  {
   "cell_type": "code",
   "execution_count": 5,
   "metadata": {},
   "outputs": [],
   "source": [
    "@app.route(\"/\")\n",
    "def index():\n",
    "    \"\"\"Return the homepage.\"\"\"\n",
    "    return render_template(\"index.html\")\n"
   ]
  },
  {
   "cell_type": "code",
   "execution_count": 6,
   "metadata": {},
   "outputs": [],
   "source": [
    "@app.route(\"/names\")\n",
    "def names():\n",
    "    \"\"\"Return a list of sample names.\"\"\"\n",
    "\n",
    "    # Use Pandas to perform the sql query\n",
    "    stmt = db.session.query(Samples).statement\n",
    "    df = pd.read_sql_query(stmt, db.session.bind)\n",
    "\n",
    "    # Return a list of the column names (sample names)\n",
    "    return jsonify(list(df.columns)[2:])"
   ]
  },
  {
   "cell_type": "code",
   "execution_count": 7,
   "metadata": {},
   "outputs": [
    {
     "ename": "IndentationError",
     "evalue": "unexpected indent (<ipython-input-7-55e76dfd4b2c>, line 2)",
     "output_type": "error",
     "traceback": [
      "\u001b[1;36m  File \u001b[1;32m\"<ipython-input-7-55e76dfd4b2c>\"\u001b[1;36m, line \u001b[1;32m2\u001b[0m\n\u001b[1;33m    app.run()\u001b[0m\n\u001b[1;37m    ^\u001b[0m\n\u001b[1;31mIndentationError\u001b[0m\u001b[1;31m:\u001b[0m unexpected indent\n"
     ]
    }
   ],
   "source": [
    "#if __name__ == \"__main__\":\n",
    "    app.run()\n",
    "\n",
    "conn.close()"
   ]
  },
  {
   "cell_type": "code",
   "execution_count": null,
   "metadata": {},
   "outputs": [],
   "source": []
  },
  {
   "cell_type": "code",
   "execution_count": null,
   "metadata": {},
   "outputs": [],
   "source": []
  }
 ],
 "metadata": {
  "kernelspec": {
   "display_name": "Python 3",
   "language": "python",
   "name": "python3"
  },
  "language_info": {
   "codemirror_mode": {
    "name": "ipython",
    "version": 3
   },
   "file_extension": ".py",
   "mimetype": "text/x-python",
   "name": "python",
   "nbconvert_exporter": "python",
   "pygments_lexer": "ipython3",
   "version": "3.7.3"
  }
 },
 "nbformat": 4,
 "nbformat_minor": 2
}
